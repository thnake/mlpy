{
 "cells": [
  {
   "cell_type": "markdown",
   "metadata": {},
   "source": [
    "## Before submitting\n",
    "1. Before you turn this problem in, make sure everything runs as expected. First, **restart the kernel** (in the menubar, select Kernel$\\rightarrow$Restart) and then **run all cells** (in the menubar, select Cell$\\rightarrow$Run All).\n",
    "\n",
    "2. Make sure that no assertions fail or exceptions occur, otherwise points will be subtracted.\n",
    "\n",
    "3. Please submit only the `*.ipynb` file.\n",
    "\n",
    "4. Make sure you fill in any place that says `YOUR CODE HERE` or \"YOUR ANSWER HERE\". Edit only between `YOUR CODE HERE` and `END YOUR CODE`.\n",
    "\n",
    "5. Fill your group name and collaborators below:"
   ]
  },
  {
   "cell_type": "code",
   "execution_count": 1,
   "metadata": {},
   "outputs": [],
   "source": [
    "GROUPNAME = \"120\"\n",
    "COLLABORATORS = \"Patrick Gizza, Robert Lisziewicz,Daniel Bardutzky\""
   ]
  },
  {
   "cell_type": "markdown",
   "metadata": {},
   "source": [
    "---"
   ]
  },
  {
   "cell_type": "markdown",
   "metadata": {},
   "source": [
    "# Exercise Sheet 1: Python Basics\n",
    "\n",
    "This first  exercise sheet tests the basic functionalities of the Python programming language in the context of a simple prediction task. We consider the problem of predicting health risk of subjects from personal data and habits. We first use for this task a decision tree\n",
    "\n",
    "![](tree.png)\n",
    "\n",
    "adapted from the webpage http://www.refactorthis.net/post/2013/04/10/Machine-Learning-tutorial-How-to-create-a-decision-tree-in-RapidMiner-using-the-Titanic-passenger-data-set.aspx. For this exercise sheet, you are required to use only pure Python, and to not import any module, including numpy. In exercise sheet 2, the nearest neighbor part of this exercise sheet will be revisited with numpy."
   ]
  },
  {
   "cell_type": "markdown",
   "metadata": {},
   "source": [
    "## Classifying a single instance (15 P)\n",
    "\n",
    "* Create a function that takes as input a tuple containing values for attributes (smoker,age,diet), and computes the output of the decision tree. Should return `\"less\"` or `\"more\"`.\n",
    "* Test your function on the tuple `('yes', 31, 'good')`,"
   ]
  },
  {
   "cell_type": "code",
   "execution_count": 29,
   "metadata": {
    "deletable": false,
    "nbgrader": {
     "checksum": "f3e47f689550d7323b8965c76a70298d",
     "grade": false,
     "grade_id": "cell-b66d7278bc313c94",
     "locked": false,
     "schema_version": 1,
     "solution": true
    }
   },
   "outputs": [],
   "source": [
    "def decision(x):    \n",
    "    # >>>>> YOUR CODE HERE\n",
    "    if x[0] == 'yes':\n",
    "        if x[1] < 29.5:\n",
    "            return 'less'\n",
    "        else:\n",
    "            return 'more'\n",
    "    else:\n",
    "        if x[2] == 'good':\n",
    "            return 'less'\n",
    "        else:\n",
    "            return 'more'        \n",
    "    # <<<<< END YOUR CODE"
   ]
  },
  {
   "cell_type": "code",
   "execution_count": 7,
   "metadata": {
    "deletable": false,
    "editable": false,
    "nbgrader": {
     "checksum": "c0559abdef335108b9edbb4ea3011c4c",
     "grade": true,
     "grade_id": "cell-c31b80471db3132f",
     "locked": true,
     "points": 15,
     "schema_version": 1,
     "solution": false
    }
   },
   "outputs": [],
   "source": [
    "# Test\n",
    "x = ('yes', 31, 'good')\n",
    "assert decision(x) == 'more'\n"
   ]
  },
  {
   "cell_type": "markdown",
   "metadata": {},
   "source": [
    "## Reading a dataset from a text file (10 P)\n",
    "\n",
    "The file `health-test.txt` contains several fictious records of personal data and habits.\n",
    "\n",
    "* Read the file automatically using the methods introduced during the lecture.\n",
    "* Represent the dataset as a list of tuples."
   ]
  },
  {
   "cell_type": "code",
   "execution_count": 71,
   "metadata": {
    "deletable": false,
    "nbgrader": {
     "checksum": "8217159008caa1db2f6649e3ed092d9f",
     "grade": false,
     "grade_id": "cell-c1a8bc4c0e4ccb26",
     "locked": false,
     "schema_version": 1,
     "solution": true
    },
    "scrolled": true
   },
   "outputs": [],
   "source": [
    "def gettest():\n",
    "    # >>>>> YOUR CODE HERE\n",
    "    with open('health-test.txt', 'r') as f:\n",
    "        L = [l[:-1].split(',') for l in f]\n",
    "    L = [tuple([l[0],float(l[1]),l[2]]) for l in L]\n",
    "    return L\n",
    "    # <<<<< END YOUR CODE"
   ]
  },
  {
   "cell_type": "code",
   "execution_count": 68,
   "metadata": {},
   "outputs": [
    {
     "data": {
      "text/plain": [
       "[('yes', 21.0, 'poor'),\n",
       " ('no', 50.0, 'good'),\n",
       " ('no', 23.0, 'good'),\n",
       " ('yes', 45.0, 'poor'),\n",
       " ('yes', 51.0, 'good'),\n",
       " ('no', 60.0, 'good'),\n",
       " ('no', 15.0, 'poor'),\n",
       " ('no', 18.0, 'good')]"
      ]
     },
     "execution_count": 68,
     "metadata": {},
     "output_type": "execute_result"
    }
   ],
   "source": [
    "L =gettest()\n",
    "L"
   ]
  },
  {
   "cell_type": "code",
   "execution_count": null,
   "metadata": {
    "deletable": false,
    "editable": false,
    "nbgrader": {
     "checksum": "5a6c609343f9b1d4bb9e02d4cc0abc2e",
     "grade": true,
     "grade_id": "cell-4e1f7ad1e66b3121",
     "locked": true,
     "points": 10,
     "schema_version": 1,
     "solution": false
    }
   },
   "outputs": [],
   "source": []
  },
  {
   "cell_type": "markdown",
   "metadata": {},
   "source": [
    "## Applying the decision tree to the dataset (15 P)\n",
    "\n",
    "* Apply the decision tree to all points in the dataset, and return the percentage of them that are classified as \"more\"."
   ]
  },
  {
   "cell_type": "code",
   "execution_count": 76,
   "metadata": {
    "deletable": false,
    "nbgrader": {
     "checksum": "6a8ebad6d019805a1f317cd25c329cff",
     "grade": false,
     "grade_id": "cell-6703ef98e2b5c93b",
     "locked": false,
     "schema_version": 1,
     "solution": true
    }
   },
   "outputs": [],
   "source": [
    "def evaluate_testset():\n",
    "    # >>>>> YOUR CODE HERE\n",
    "    T = gettest()\n",
    "    D = [decision(t) for t in T]\n",
    "    percent = float(100* sum([x=='more' for x in D]))/len(D)    \n",
    "    return percent\n",
    "    # <<<<< END YOUR CODE\n"
   ]
  },
  {
   "cell_type": "code",
   "execution_count": 77,
   "metadata": {},
   "outputs": [
    {
     "name": "stdout",
     "output_type": "stream",
     "text": [
      "37.5% of the testset are evaluated with 'more'\n"
     ]
    }
   ],
   "source": [
    "evaluate_testset()"
   ]
  },
  {
   "cell_type": "code",
   "execution_count": null,
   "metadata": {
    "deletable": false,
    "editable": false,
    "nbgrader": {
     "checksum": "2cf754f1f4a98838c63a6840e15ae198",
     "grade": true,
     "grade_id": "cell-c13a0b23c9faba52",
     "locked": true,
     "points": 15,
     "schema_version": 1,
     "solution": false
    }
   },
   "outputs": [],
   "source": []
  },
  {
   "cell_type": "markdown",
   "metadata": {},
   "source": [
    "## Learning from examples (10 P)\n",
    "\n",
    "Suppose that instead of relying on a fixed decision tree, we would like to use a data-driven approach where data points are classified based on a set of training observations manually labeled by experts. Such labeled dataset is available in the file `health-train.txt`. The first three columns have the same meaning than for `health-test.txt`, and the last column corresponds to the labels.\n",
    "\n",
    "* Write a procedure that reads this file and converts it into a list of pairs. The first element of each pair is a triplet of attributes, and the second element is the label."
   ]
  },
  {
   "cell_type": "code",
   "execution_count": 97,
   "metadata": {
    "deletable": false,
    "nbgrader": {
     "checksum": "e6de29aa89d0457a5c0aeb5d7123a2ef",
     "grade": false,
     "grade_id": "cell-fc38ed11fee6fbeb",
     "locked": false,
     "schema_version": 1,
     "solution": true
    }
   },
   "outputs": [],
   "source": [
    "def gettrain():\n",
    "    # >>>>> YOUR CODE HERE\n",
    "    with open('health-train.txt', 'r') as f:\n",
    "        L = [l[:-1].split(',') for l in f]        \n",
    "        L = [[l[0],float(l[1]),l[2],l[3]] for l in L]        \n",
    "        L = [[tuple(l[0:3]), l[3]] for l in L]\n",
    "        return L\n",
    "    # <<<<< END YOUR CODE"
   ]
  },
  {
   "cell_type": "code",
   "execution_count": 91,
   "metadata": {},
   "outputs": [
    {
     "data": {
      "text/plain": [
       "[[('yes', 54.0, 'good'), 'less'],\n",
       " [('no', 55.0, 'good'), 'less'],\n",
       " [('no', 26.0, 'good'), 'less'],\n",
       " [('yes', 40.0, 'good'), 'more'],\n",
       " [('yes', 25.0, 'poor'), 'less'],\n",
       " [('no', 13.0, 'poor'), 'more'],\n",
       " [('no', 15.0, 'good'), 'less'],\n",
       " [('no', 50.0, 'poor'), 'more'],\n",
       " [('yes', 33.0, 'good'), 'more'],\n",
       " [('no', 35.0, 'good'), 'less'],\n",
       " [('no', 41.0, 'good'), 'less'],\n",
       " [('yes', 30.0, 'poor'), 'more'],\n",
       " [('no', 39.0, 'poor'), 'more'],\n",
       " [('no', 20.0, 'good'), 'less'],\n",
       " [('yes', 18.0, 'poor'), 'less'],\n",
       " [('yes', 55.0, 'good'), 'more']]"
      ]
     },
     "execution_count": 91,
     "metadata": {},
     "output_type": "execute_result"
    }
   ],
   "source": [
    "gettrain()"
   ]
  },
  {
   "cell_type": "code",
   "execution_count": null,
   "metadata": {
    "deletable": false,
    "editable": false,
    "nbgrader": {
     "checksum": "925716f474f7b0e3a7892e1aebfa217e",
     "grade": true,
     "grade_id": "cell-a3d593f232e0403a",
     "locked": true,
     "points": 10,
     "schema_version": 1,
     "solution": false
    }
   },
   "outputs": [],
   "source": []
  },
  {
   "cell_type": "markdown",
   "metadata": {},
   "source": [
    "## Nearest neighbor classifier (25 P)\n",
    "\n",
    "We consider the nearest neighbor algorithm that classifies test points following the label of the nearest neighbor in the training data. For this, we need to define a distance function between data points. We define it to be\n",
    "\n",
    "`d(a, b) = (a[0] != b[0]) + ((a[1] - b[1]) / 50.0) ** 2 + (a[2] != b[2])`\n",
    "\n",
    "where `a` and `b` are two tuples corrsponding to the attributes of two data points.\n",
    "\n",
    "* Write a function that retrieves for a test point the nearest neighbor in the training set, and classifies the test point accordingly.\n",
    "* Test your function on the tuple `('yes', 31, 'good')`"
   ]
  },
  {
   "cell_type": "code",
   "execution_count": 119,
   "metadata": {
    "deletable": false,
    "nbgrader": {
     "checksum": "87751ef965d915307f761da8071a184f",
     "grade": false,
     "grade_id": "cell-671ea24ec8a11241",
     "locked": false,
     "schema_version": 1,
     "solution": true
    }
   },
   "outputs": [],
   "source": [
    "def neighbor(x, trainset):\n",
    "    # >>>>> YOUR CODE HERE\n",
    "    def d(a, b):\n",
    "        return ((a[0] != b[0]) + ((a[1] - b[1]) / 50.0) ** 2 + (a[2] != b[2]))\n",
    "    N = [d(x,y[0]) for y in trainset]  \n",
    "    N.index\n",
    "    # <<<<< END YOUR CODE"
   ]
  },
  {
   "cell_type": "code",
   "execution_count": 135,
   "metadata": {},
   "outputs": [
    {
     "data": {
      "text/plain": [
       "[0.2116,\n",
       " 1.2304,\n",
       " 1.01,\n",
       " 0.0324,\n",
       " 1.0144,\n",
       " 2.1296,\n",
       " 1.1024,\n",
       " 2.1444,\n",
       " 0.0016,\n",
       " 1.0064,\n",
       " 1.04,\n",
       " 1.0004,\n",
       " 2.0256,\n",
       " 1.0484,\n",
       " 1.0676,\n",
       " 0.2304]"
      ]
     },
     "execution_count": 135,
     "metadata": {},
     "output_type": "execute_result"
    }
   ],
   "source": [
    "# tinker\n",
    "x = ('yes', 31, 'good')\n",
    "def d(a, b):\n",
    "    return (a[0] != b[0]) + ((a[1] - b[1]) / 50.0) ** 2 + (a[2] != b[2])\n",
    "N = neighbor(x, gettrain())\n",
    "N"
   ]
  },
  {
   "cell_type": "code",
   "execution_count": 132,
   "metadata": {
    "deletable": false,
    "editable": false,
    "nbgrader": {
     "checksum": "528146e447a25173480343d5fb7fd585",
     "grade": true,
     "grade_id": "cell-a36122337853f195",
     "locked": true,
     "points": 15,
     "schema_version": 1,
     "solution": false
    }
   },
   "outputs": [
    {
     "ename": "AssertionError",
     "evalue": "",
     "output_type": "error",
     "traceback": [
      "\u001b[1;31m---------------------------------------------------------------------------\u001b[0m",
      "\u001b[1;31mAssertionError\u001b[0m                            Traceback (most recent call last)",
      "\u001b[1;32m<ipython-input-132-9479da5b0cb4>\u001b[0m in \u001b[0;36m<module>\u001b[1;34m()\u001b[0m\n\u001b[0;32m      1\u001b[0m \u001b[1;31m# Test\u001b[0m\u001b[1;33m\u001b[0m\u001b[1;33m\u001b[0m\u001b[0m\n\u001b[0;32m      2\u001b[0m \u001b[0mx\u001b[0m \u001b[1;33m=\u001b[0m \u001b[1;33m(\u001b[0m\u001b[1;34m'yes'\u001b[0m\u001b[1;33m,\u001b[0m \u001b[1;36m31\u001b[0m\u001b[1;33m,\u001b[0m \u001b[1;34m'good'\u001b[0m\u001b[1;33m)\u001b[0m\u001b[1;33m\u001b[0m\u001b[0m\n\u001b[1;32m----> 3\u001b[1;33m \u001b[1;32massert\u001b[0m \u001b[0mneighbor\u001b[0m\u001b[1;33m(\u001b[0m\u001b[0mx\u001b[0m\u001b[1;33m,\u001b[0m \u001b[0mgettrain\u001b[0m\u001b[1;33m(\u001b[0m\u001b[1;33m)\u001b[0m\u001b[1;33m)\u001b[0m \u001b[1;33m==\u001b[0m \u001b[1;34m\"more\"\u001b[0m\u001b[1;33m\u001b[0m\u001b[0m\n\u001b[0m",
      "\u001b[1;31mAssertionError\u001b[0m: "
     ]
    }
   ],
   "source": [
    "# Test\n",
    "x = ('yes', 31, 'good')\n",
    "assert neighbor(x, gettrain()) == \"more\"\n"
   ]
  },
  {
   "cell_type": "markdown",
   "metadata": {},
   "source": [
    "* Apply both the decision tree and nearest neighbor classifiers on the test set, and find the data point(s) for which the two classifiers disagree, and with which probability it happens."
   ]
  },
  {
   "cell_type": "code",
   "execution_count": null,
   "metadata": {
    "deletable": false,
    "nbgrader": {
     "checksum": "d26e5477527236f7db5c7cb6f8589c3a",
     "grade": false,
     "grade_id": "cell-8dbf7da153f3d797",
     "locked": false,
     "schema_version": 1,
     "solution": true
    }
   },
   "outputs": [],
   "source": [
    "def compare():\n",
    "    # >>>>> YOUR CODE HERE\n",
    "    raise NotImplementedError(\"Replace this line by your code.\")\n",
    "    # <<<<< END YOUR CODE\n",
    "    return Xdisagree, probability"
   ]
  },
  {
   "cell_type": "code",
   "execution_count": null,
   "metadata": {
    "deletable": false,
    "editable": false,
    "nbgrader": {
     "checksum": "d1705a0d34004040f2bc1fee626e7624",
     "grade": true,
     "grade_id": "cell-3b55f7e89ad4dfeb",
     "locked": true,
     "points": 10,
     "schema_version": 1,
     "solution": false
    }
   },
   "outputs": [],
   "source": [
    "Xdisagree, probability = compare()\n",
    "assert type(Xdisagree) == list\n",
    "assert probability >= 0.0 and probability <= 1.0"
   ]
  },
  {
   "cell_type": "markdown",
   "metadata": {},
   "source": [
    "One problem of simple nearest neighbors is that one needs to compare the point to predict to all data points in the training set. This can be slow for datasets of thousands of points or more. Alternatively, some classifiers train a model first, and then use it to classify the data.\n",
    "\n",
    "## Nearest mean classifier (25 P)\n",
    "\n",
    "We consider one such trainable model, which operates in two steps:\n",
    "\n",
    "(1) Compute the average point for each class, (2) classify new points to be of the class whose average point is nearest to the point to predict.\n",
    "\n",
    "For this classifier, we convert the attributes smoker and diet to real values (for smoker: yes=1.0 and no=0.0, and for diet: good=0.0 and poor=1.0), and use the modified distance function:\n",
    "\n",
    "`d(a,b) = (a[0] - b[0]) ** 2 + ((a[1] - b[1]) / 50.0) ** 2 + (a[2] - b[2]) ** 2`\n",
    "\n",
    "We adopt an object-oriented approach for building this classifier.\n",
    "\n",
    "* Implement the methods `train` and `predict` of the class `NearestMeanClassifier`."
   ]
  },
  {
   "cell_type": "code",
   "execution_count": null,
   "metadata": {
    "deletable": false,
    "nbgrader": {
     "checksum": "303bfe831913b6c12d012e06b0815e0c",
     "grade": false,
     "grade_id": "cell-e0b339bfd0fcc16c",
     "locked": false,
     "schema_version": 1,
     "solution": true
    }
   },
   "outputs": [],
   "source": [
    "class NearestMeanClassifier:\n",
    "    def train(self, dataset):\n",
    "        # >>>>> YOUR CODE HERE\n",
    "        raise NotImplementedError(\"Replace this line by your code.\")\n",
    "        # <<<<< END YOUR CODE\n",
    "\n",
    "    def predict(self, x):\n",
    "        # >>>>> YOUR CODE HERE\n",
    "        raise NotImplementedError(\"Replace this line by your code.\")\n",
    "        # <<<<< END YOUR CODE\n",
    "        return prediction"
   ]
  },
  {
   "cell_type": "markdown",
   "metadata": {},
   "source": [
    "* Build an object of class `NearestMeanClassifier`, train it on the training data, and print the mean vector for each class."
   ]
  },
  {
   "cell_type": "code",
   "execution_count": null,
   "metadata": {
    "deletable": false,
    "nbgrader": {
     "checksum": "e41c5c9134feb3a505677bc939acc25d",
     "grade": false,
     "grade_id": "cell-5f7f00ee83c94703",
     "locked": false,
     "schema_version": 1,
     "solution": true
    }
   },
   "outputs": [],
   "source": [
    "def build_and_train():\n",
    "    # >>>>> YOUR CODE HERE\n",
    "    raise NotImplementedError(\"Replace this line by your code.\")\n",
    "    # <<<<< END YOUR CODE\n",
    "build_and_train()"
   ]
  },
  {
   "cell_type": "code",
   "execution_count": null,
   "metadata": {
    "deletable": false,
    "editable": false,
    "nbgrader": {
     "checksum": "686cebaaedb7e41b87361a8408661ab1",
     "grade": true,
     "grade_id": "cell-415891bde4cbde19",
     "locked": true,
     "points": 15,
     "schema_version": 1,
     "solution": false
    }
   },
   "outputs": [],
   "source": []
  },
  {
   "cell_type": "markdown",
   "metadata": {},
   "source": [
    "* Predict the test data using the nearest mean classifier and print all test examples for which all three classifiers (decision tree, nearest neighbor and nearest mean) agree."
   ]
  },
  {
   "cell_type": "code",
   "execution_count": null,
   "metadata": {
    "deletable": false,
    "nbgrader": {
     "checksum": "29945175006a71d97e57588c9c524df1",
     "grade": false,
     "grade_id": "cell-f37f3035a32a8f85",
     "locked": false,
     "schema_version": 1,
     "solution": true
    }
   },
   "outputs": [],
   "source": [
    "def predict_test():\n",
    "    # >>>>> YOUR CODE HERE\n",
    "    raise NotImplementedError(\"Replace this line by your code.\")\n",
    "    # <<<<< END YOUR CODE\n",
    "    return agreed_samples\n",
    "predict_test()"
   ]
  },
  {
   "cell_type": "code",
   "execution_count": null,
   "metadata": {
    "deletable": false,
    "editable": false,
    "nbgrader": {
     "checksum": "951f7d822b4c3475ab6dc89fa3c87d46",
     "grade": true,
     "grade_id": "cell-853c957eaaf81c28",
     "locked": true,
     "points": 10,
     "schema_version": 1,
     "solution": false
    }
   },
   "outputs": [],
   "source": []
  }
 ],
 "metadata": {
  "kernelspec": {
   "display_name": "Python 2",
   "language": "python",
   "name": "python2"
  },
  "language_info": {
   "codemirror_mode": {
    "name": "ipython",
    "version": 2
   },
   "file_extension": ".py",
   "mimetype": "text/x-python",
   "name": "python",
   "nbconvert_exporter": "python",
   "pygments_lexer": "ipython2",
   "version": "2.7.14"
  }
 },
 "nbformat": 4,
 "nbformat_minor": 1
}
