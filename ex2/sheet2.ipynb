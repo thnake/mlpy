{
 "cells": [
  {
   "cell_type": "markdown",
   "metadata": {},
   "source": [
    "## Before submitting\n",
    "1. Before you turn this problem in, make sure everything runs as expected. First, **restart the kernel** (in the menubar, select Kernel$\\rightarrow$Restart) and then **run all cells** (in the menubar, select Cell$\\rightarrow$Run All).\n",
    "\n",
    "2. Make sure that no assertions fail or exceptions occur, otherwise points will be subtracted.\n",
    "\n",
    "3. Please submit only the `*.ipynb` file.\n",
    "\n",
    "4. Make sure you fill in any place that says `YOUR CODE HERE` or \"YOUR ANSWER HERE\". Edit only between `YOUR CODE HERE` and `END YOUR CODE`.\n",
    "\n",
    "5. Fill your group name and collaborators below:"
   ]
  },
  {
   "cell_type": "code",
   "execution_count": 1,
   "metadata": {},
   "outputs": [],
   "source": [
    "GROUPNAME = \"sd\"\n",
    "COLLABORATORS = \"\""
   ]
  },
  {
   "cell_type": "markdown",
   "metadata": {},
   "source": [
    "---"
   ]
  },
  {
   "cell_type": "markdown",
   "metadata": {},
   "source": [
    "# Exercise Sheet 2: Timing, Numpy, Plotting\n",
    "\n",
    "The previous exercise sheet introduced several methods for classification: decision trees, nearest neighbors, and nearest means. Of those, the one that could learn from the data, and that also offered enough complexity to produce an accurate decision function was k-nearest neighbors. However, nearest neighbors can be slow when implemented in pure Python (i.e. with loops). This is especially the case when the number of data points or input dimensions is large.\n",
    "\n",
    "In this exercise sheet, we will speed up nearest neighbors by utilizing `numpy` and `scipy` packages. Your task will be to **replace list-based operations by vector-based operations** between numpy arrays. The speed and correctness of the implementations will then be tested. In particular, performance graphs will be drawn using the library `matplotlib`."
   ]
  },
  {
   "cell_type": "markdown",
   "metadata": {},
   "source": [
    "## Python Nearest Neighbor\n",
    "\n",
    "The most basic element of computation of nearest neighbors is its distance function relating two arbitrary data points `x1` and `x2`. We assume that these points are iterable (i.e. we can use a loop over their dimensions). One way among others to compute the square Euclidean distance between two points is by computing the sum of the component-wise distances."
   ]
  },
  {
   "cell_type": "code",
   "execution_count": 2,
   "metadata": {
    "deletable": false,
    "editable": false,
    "nbgrader": {
     "checksum": "97647017c26037054b7a01b261a9e9c9",
     "grade": false,
     "grade_id": "cell-1b37d48b31ec0e79",
     "locked": true,
     "schema_version": 1,
     "solution": false
    }
   },
   "outputs": [],
   "source": [
    "def pydistance(x1, x2):\n",
    "    return sum([(x1d - x2d) ** 2 for x1d, x2d in zip(x1, x2)])"
   ]
  },
  {
   "cell_type": "markdown",
   "metadata": {},
   "source": [
    "where we use the prefix \"`py-`\" of the function to indicate that the latter makes use of pure `Python` instead of `numpy`. Once the distance matrix has been implemented, the nearest neighbor for a given unlabeled point `u` that we would like to classify is obtained by iterating over all points in the training set `(X, Y)`, selecting the point with smallest distance to `u`, and returning its corresponding label. Here `X` denotes the list of inputs in the training set and `Y` denotes the list of labels."
   ]
  },
  {
   "cell_type": "code",
   "execution_count": 3,
   "metadata": {
    "deletable": false,
    "editable": false,
    "nbgrader": {
     "checksum": "8158c17a5f44f10a8549f046d6cb00bd",
     "grade": false,
     "grade_id": "cell-66259b233d864979",
     "locked": true,
     "schema_version": 1,
     "solution": false
    }
   },
   "outputs": [],
   "source": [
    "def pynearest(u, X, Y, distance=pydistance):\n",
    "    xbest = None\n",
    "    ybest = None\n",
    "    dbest = float('inf')\n",
    "    \n",
    "    for x, y in zip(X, Y):\n",
    "        d = distance(u, x)\n",
    "        if d < dbest:\n",
    "            ybest = y\n",
    "            xbest = x\n",
    "            dbest = d\n",
    "            \n",
    "    return ybest"
   ]
  },
  {
   "cell_type": "markdown",
   "metadata": {},
   "source": [
    "Note that this function either uses function `pydistance` (given as default if the argument distance is not specified). Or one could specify as argument a more optimized function for distance compuation, for example, one that uses `numpy`. Finally, one might not be interested in classifying a single point, but many of them. The method below receives a collection of such unlabeled test points stored in the variable `U`. The function returns a list of predictions associated to each test point."
   ]
  },
  {
   "cell_type": "code",
   "execution_count": 4,
   "metadata": {
    "deletable": false,
    "editable": false,
    "nbgrader": {
     "checksum": "41e2a05bf27243a2b2b92a2205935ef7",
     "grade": false,
     "grade_id": "cell-1673d3f81bce46ae",
     "locked": true,
     "schema_version": 1,
     "solution": false
    }
   },
   "outputs": [],
   "source": [
    "def pybatch(U, X, Y, nearest=pynearest, distance=pydistance):\n",
    "    return [nearest(u, X, Y, distance=distance) for u in U]"
   ]
  },
  {
   "cell_type": "markdown",
   "metadata": {},
   "source": [
    "Again, such function uses by default the Python nearest neighbor search (with a specified distance function). However, we can also specified a more optimized nearest neighbor function, for example, based on `numpy`. Finally, one could consider an alternative function to `pybatch` that would use `numpy` from the beginning to the end. The implementation of such more optimized functions, and the testing of their correct behavior and higher performance will be the object of this exercise sheet."
   ]
  },
  {
   "cell_type": "markdown",
   "metadata": {},
   "source": [
    "## Testing and correctness\n",
    "\n",
    "As a starting point, the code below tests the output of the nearest neighbor algorithm for some toy dataset with fixed parameters. In particular, the function `data.toy(M,N,d)` generates a problem with `M` unlabeled test points stored in a matrix `U` of size `(M x d)`, then `N` labeled training points stored in a matrix `X` of size `(N x d)` and the output label is stored in a vector `Y` of size `N` composed of zeros and ones encoding the two possible classes. The variable `d` denotes the number of dimensions of each point. The toy dataset is pseudo-random, that is, for fixed parameters, it produce a random-looking dataset, but every time the method is called with the same parameters, the dataset is the same. The pseudo-randomness property will be useful to verify that each nearest neighbor implementation performs the same overall computation."
   ]
  },
  {
   "cell_type": "code",
   "execution_count": 5,
   "metadata": {
    "deletable": false,
    "editable": false,
    "nbgrader": {
     "checksum": "799947e60242cee8bb88b436ff734e51",
     "grade": false,
     "grade_id": "cell-79632e7653dd78cc",
     "locked": true,
     "schema_version": 1,
     "solution": false
    }
   },
   "outputs": [
    {
     "name": "stdout",
     "output_type": "stream",
     "text": [
      "[1, 1, 1, 0, 0, 1, 0, 1, 1, 0, 1, 1, 1, 0, 1, 0, 1, 1, 1, 0]\n"
     ]
    }
   ],
   "source": [
    "import data\n",
    "U, X, Y = data.toy(20, 100, 50)\n",
    "print(pybatch(U, X, Y))"
   ]
  },
  {
   "cell_type": "code",
   "execution_count": 6,
   "metadata": {},
   "outputs": [],
   "source": [
    "# U is Mxd = 20x50, 20 Zeilen, ie 20 testpunkte\n",
    "# X is Nxd = 100x50, \n",
    "# Y is \n",
    "\n",
    "\n",
    "\n"
   ]
  },
  {
   "cell_type": "markdown",
   "metadata": {},
   "source": [
    "\n",
    "In particular, the output of this function will help us to verify that the more optimized `numpy`-based versions of nearest neighbor are still valid."
   ]
  },
  {
   "cell_type": "markdown",
   "metadata": {},
   "source": [
    "## Plotting and performance\n",
    "\n",
    "We now describe how to build a plot that relates a certain parameter of the dataset (e.g. the number of input dimensions `d` to the time required for the computation. We first initialize the basic plotting environment."
   ]
  },
  {
   "cell_type": "code",
   "execution_count": 7,
   "metadata": {},
   "outputs": [],
   "source": [
    "import matplotlib\n",
    "from matplotlib import pyplot as plt\n",
    "%matplotlib inline\n",
    "from IPython.display import set_matplotlib_formats\n",
    "set_matplotlib_formats('pdf', 'png')\n",
    "plt.rcParams['savefig.dpi'] = 90"
   ]
  },
  {
   "cell_type": "markdown",
   "metadata": {},
   "source": [
    "The command \"`%matplotlib inline`\" tells IPython notebook that the plots should be rendered inside the notebook. The following code plots the computation time of predicting `100` points from the test set using a training set of size `100`, and where we vary the number of input dimensions."
   ]
  },
  {
   "cell_type": "code",
   "execution_count": 8,
   "metadata": {
    "deletable": false,
    "editable": false,
    "nbgrader": {
     "checksum": "45ef8861ab878665294bc16680fecc10",
     "grade": false,
     "grade_id": "cell-46485712351bdfcf",
     "locked": true,
     "schema_version": 1,
     "solution": false
    },
    "scrolled": true
   },
   "outputs": [
    {
     "data": {
      "application/pdf": "[encoded data removed]",
      "image/png": "[encoded data removed]",
      "text/plain": [
       "<Figure size 360x216 with 1 Axes>"
      ]
     },
     "metadata": {},
     "output_type": "display_data"
    }
   ],
   "source": [
    "import time\n",
    "\n",
    "# Values for the number of dimensions d to test\n",
    "dlist = [1, 2, 5, 10, 20, 50, 100]\n",
    "\n",
    "# Measure the computation time for each choice of number of dimensions d\n",
    "tlist = []\n",
    "for d in dlist:\n",
    "    U, X, Y = data.toy(100, 100, d)\n",
    "    a = time.clock()\n",
    "    pybatch(U, X, Y)\n",
    "    b = time.clock()\n",
    "    tlist += [b - a]\n",
    "\n",
    "# Plot the results in a graph\n",
    "plt.figure(figsize=(5, 3))\n",
    "plt.plot(dlist, tlist, '-o')\n",
    "plt.xscale('log'); plt.yscale('log'); plt.xlabel('d'); plt.ylabel('time'); plt.grid(True)"
   ]
  },
  {
   "cell_type": "markdown",
   "metadata": {},
   "source": [
    "The time on the vertical axis is in seconds. Note that the exact computation time depends on the speed of your computer. As expected, the computation time increases with the number of input dimensions. Unfortunately, for the small dataset considered here (`100` training and test points of `100` dimensions each), the algorithm already takes more than one second to execute. Thus, it is necessary for practical applications (e.g. the digit recognition task that we will consider at the end of this exercise sheet) to accelerate this nearest neighbor algorithm."
   ]
  },
  {
   "cell_type": "markdown",
   "metadata": {},
   "source": [
    "## 1. Accelerating the distance computation (25 P)\n",
    "\n",
    "In this first exercise, we would like to accelerate the function that compute pairwise distances.\n",
    "\n",
    "**a)** Create a new function `npdistance(x1,x2)` with the same output as `pydistance(x1,x2)`, but that computes the squared Euclidean distance using `numpy` operations. Verify that in both cases (i.e. using either `npdistance` or `pydistance` in the function `pybatch`) the output for the above toy example with parameters `M=20`, `N=100`, `d=50` (i.e. `data.toy(20,100,50)`) remains the same."
   ]
  },
  {
   "cell_type": "code",
   "execution_count": 9,
   "metadata": {
    "deletable": false,
    "nbgrader": {
     "checksum": "8517f23d873af508754ef1aca82f4ba2",
     "grade": false,
     "grade_id": "cell-19fc7493b2e8f798",
     "locked": false,
     "schema_version": 1,
     "solution": true
    }
   },
   "outputs": [],
   "source": [
    "import numpy \n",
    "def npdistance(x1,x2):\n",
    "    # >>>>> YOUR CODE HERE\n",
    "    a1 = numpy.array(x1)\n",
    "    a2 = numpy.array(x2)\n",
    "    return numpy.linalg.norm(a1-a2)**2   \n",
    "    # <<<<< END YOUR CODE"
   ]
  },
  {
   "cell_type": "code",
   "execution_count": 10,
   "metadata": {
    "deletable": false,
    "editable": false,
    "nbgrader": {
     "checksum": "d2c7ad60dea84249ccad8ac53ef3fbcd",
     "grade": true,
     "grade_id": "cell-bf963bc80a4dfff6",
     "locked": true,
     "points": 15,
     "schema_version": 1,
     "solution": false
    }
   },
   "outputs": [],
   "source": [
    "# Verify your function\n",
    "assert pybatch(U, X, Y, distance=pydistance) == pybatch(U, X, Y, distance=npdistance)"
   ]
  },
  {
   "cell_type": "code",
   "execution_count": null,
   "metadata": {},
   "outputs": [],
   "source": []
  },
  {
   "cell_type": "markdown",
   "metadata": {},
   "source": [
    "**b)** Create a plot similar to the one above, but where the computation time required by both methods are shown in a superposed manner. Here, we fix `M=100`, `N=100`, and we let `d` vary from `1` to `1000`, taking the list of values `[1, 2, 5, 10, 20, 50, 100, 200, 500, 1000]`."
   ]
  },
  {
   "cell_type": "code",
   "execution_count": 11,
   "metadata": {
    "deletable": false,
    "nbgrader": {
     "checksum": "795181f0e5f417997505e2fd4a03b7bd",
     "grade": true,
     "grade_id": "cell-42315eeb7aedb147",
     "locked": false,
     "points": 5,
     "schema_version": 1,
     "solution": true
    },
    "scrolled": true
   },
   "outputs": [
    {
     "data": {
      "application/pdf": "[encoded data removed]",
      "image/png": "[encoded data removed]",
      "text/plain": [
       "<Figure size 360x216 with 1 Axes>"
      ]
     },
     "metadata": {},
     "output_type": "display_data"
    }
   ],
   "source": [
    "# >>>>> YOUR CODE HERE\n",
    "dlist = [1, 2, 5, 10, 20, 50, 100, 200, 500, 1000]\n",
    "\n",
    "tlist = []\n",
    "tlistnp = []\n",
    "for d in dlist:\n",
    "    U, X, Y = data.toy(100, 100, d)\n",
    "    a = time.clock()\n",
    "    pybatch(U, X, Y)\n",
    "    b = time.clock()\n",
    "    tlist += [b - a]\n",
    "    \n",
    "    a = time.clock()\n",
    "    pybatch(U, X, Y, distance=npdistance)\n",
    "    b = time.clock()\n",
    "    tlistnp += [b - a]\n",
    "\n",
    "plt.figure(figsize=(5, 3))\n",
    "plt.plot(dlist, tlist, '-o')\n",
    "plt.plot(dlist, tlistnp, '-o')\n",
    "plt.xscale('log'); plt.yscale('log'); plt.xlabel('d'); plt.ylabel('time'); plt.grid(True)\n",
    "A = zip(dlist,tlist,tlistnp)\n",
    "\n",
    "# <<<<< END YOUR CODE"
   ]
  },
  {
   "cell_type": "code",
   "execution_count": 12,
   "metadata": {},
   "outputs": [
    {
     "data": {
      "text/plain": [
       "[(1, 0.04267399999999988, 0.12387000000000015),\n",
       " (2, 0.04604099999999978, 0.17994100000000035),\n",
       " (5, 0.07524200000000025, 0.13214300000000012),\n",
       " (10, 0.1459229999999998, 0.2279030000000004),\n",
       " (20, 0.15005999999999986, 0.1270559999999996),\n",
       " (50, 0.3256269999999999, 0.12421499999999952),\n",
       " (100, 0.8419059999999998, 0.12496800000000086),\n",
       " (200, 1.4199529999999996, 0.19762400000000113),\n",
       " (500, 3.7350460000000005, 0.2647309999999994),\n",
       " (1000, 6.671714999999999, 0.22949999999999804)]"
      ]
     },
     "execution_count": 12,
     "metadata": {},
     "output_type": "execute_result"
    }
   ],
   "source": [
    "list(A)"
   ]
  },
  {
   "cell_type": "markdown",
   "metadata": {},
   "source": [
    "**c)** Based on your results, explain what kind of speedup `numpy` provides, and in what regime do you expect the speedup to be the most important:"
   ]
  },
  {
   "cell_type": "code",
   "execution_count": 13,
   "metadata": {
    "deletable": false,
    "nbgrader": {
     "checksum": "f33704f34c274f5a6346e07465b57c62",
     "grade": true,
     "grade_id": "cell-9516251f178579b7",
     "locked": false,
     "points": 5,
     "schema_version": 1,
     "solution": true
    }
   },
   "outputs": [],
   "source": [
    "# >>>>> YOUR CODE HERE\n",
    "\n",
    "# <<<<< END YOUR CODE"
   ]
  },
  {
   "cell_type": "markdown",
   "metadata": {},
   "source": [
    "## 2. Accelerating the nearest neighbor search (25 P)\n",
    "\n",
    "Motivated by the success of the `numpy` optimized distance computation, we would like further accelerate the code by performing nearest neighbor search directly in `numpy`.\n",
    "\n",
    "**a)** Create a new function `npnearest(u,X,Y)` as an alternative to the function `pynearest(u,X,Y,distance=npdistance)` that we have used in the previous exercise. Again, verify your function for the same toy example as before (i.e. `data.toy(20,100,50)`)."
   ]
  },
  {
   "cell_type": "code",
   "execution_count": 14,
   "metadata": {
    "deletable": false,
    "nbgrader": {
     "checksum": "75631cc3b9a36e6672220acce00ec819",
     "grade": false,
     "grade_id": "cell-abf6acbfd89109a2",
     "locked": false,
     "schema_version": 1,
     "solution": true
    },
    "scrolled": true
   },
   "outputs": [],
   "source": [
    "def npnearest(u, X, Y, distance=npdistance):\n",
    "    # >>>>> YOUR CODE HERE\n",
    "    xbest = None\n",
    "    ybest = None\n",
    "    dbest = float('inf')\n",
    "    [distance]\n",
    "    for x, y in zip(X, Y):\n",
    "        d = distance(u, x)\n",
    "        if d < dbest:\n",
    "            ybest = y\n",
    "            xbest = x\n",
    "            dbest = d\n",
    "            \n",
    "    return ybest\n",
    "# <<<<< END YOUR CODE"
   ]
  },
  {
   "cell_type": "code",
   "execution_count": null,
   "metadata": {},
   "outputs": [],
   "source": []
  },
  {
   "cell_type": "code",
   "execution_count": 21,
   "metadata": {
    "deletable": false,
    "editable": false,
    "nbgrader": {
     "checksum": "0b5a95b1bdde002ac92f1caf19b07e49",
     "grade": true,
     "grade_id": "cell-9621f0349d332a46",
     "locked": true,
     "points": 15,
     "schema_version": 1,
     "solution": false
    }
   },
   "outputs": [],
   "source": [
    "# Verify your function\n",
    "assert pybatch(U, X, Y, nearest=pynearest) == pybatch(U, X, Y, nearest=npnearest)"
   ]
  },
  {
   "cell_type": "markdown",
   "metadata": {},
   "source": [
    "**b)** Create a plot similar to the one above, where the new method is compared to the previous one. Here, we fix `M=100`, `d=100`, and we let `N` take different values `[1, 2, 5, 10, 20, 50, 100, 200, 500, 1000]`."
   ]
  },
  {
   "cell_type": "code",
   "execution_count": 17,
   "metadata": {
    "deletable": false,
    "nbgrader": {
     "checksum": "88c967cfc2abd7ff7808cdc6270dca12",
     "grade": true,
     "grade_id": "cell-c0fdf389a1795330",
     "locked": false,
     "points": 5,
     "schema_version": 1,
     "solution": true
    }
   },
   "outputs": [
    {
     "ename": "NotImplementedError",
     "evalue": "Replace this line by your code.",
     "output_type": "error",
     "traceback": [
      "\u001b[0;31m---------------------------------------------------------------------------\u001b[0m",
      "\u001b[0;31mNotImplementedError\u001b[0m                       Traceback (most recent call last)",
      "\u001b[0;32m<ipython-input-17-888788d0ba45>\u001b[0m in \u001b[0;36m<module>\u001b[0;34m()\u001b[0m\n\u001b[1;32m      1\u001b[0m \u001b[0;31m# >>>>> YOUR CODE HERE\u001b[0m\u001b[0;34m\u001b[0m\u001b[0;34m\u001b[0m\u001b[0m\n\u001b[0;32m----> 2\u001b[0;31m \u001b[0;32mraise\u001b[0m \u001b[0mNotImplementedError\u001b[0m\u001b[0;34m(\u001b[0m\u001b[0;34m\"Replace this line by your code.\"\u001b[0m\u001b[0;34m)\u001b[0m\u001b[0;34m\u001b[0m\u001b[0m\n\u001b[0m\u001b[1;32m      3\u001b[0m \u001b[0;31m# <<<<< END YOUR CODE\u001b[0m\u001b[0;34m\u001b[0m\u001b[0;34m\u001b[0m\u001b[0m\n",
      "\u001b[0;31mNotImplementedError\u001b[0m: Replace this line by your code."
     ]
    }
   ],
   "source": [
    "# >>>>> YOUR CODE HERE\n",
    "raise NotImplementedError(\"Replace this line by your code.\")\n",
    "# <<<<< END YOUR CODE"
   ]
  },
  {
   "cell_type": "markdown",
   "metadata": {},
   "source": [
    "**c)** Based on your results, explain what kind of speedup this further optimization provides, and in what regime the speedup is the most significant."
   ]
  },
  {
   "cell_type": "code",
   "execution_count": null,
   "metadata": {
    "deletable": false,
    "nbgrader": {
     "checksum": "640c6f5e0d7dc54c35b1015273f20b6d",
     "grade": true,
     "grade_id": "cell-e2c08ae495e14060",
     "locked": false,
     "points": 5,
     "schema_version": 1,
     "solution": true
    }
   },
   "outputs": [],
   "source": [
    "# >>>>> YOUR CODE HERE\n",
    "raise NotImplementedError(\"Replace this line by your code.\")\n",
    "# <<<<< END YOUR CODE"
   ]
  },
  {
   "cell_type": "markdown",
   "metadata": {},
   "source": [
    "## 3. Accelerating the processing of multiple test points (25 P)\n",
    "\n",
    "Not yet fully happy with the performance of the algorithm, we would like to further optimize it by avoiding performing a loop on the test points, and instead, classify them all at once.\n",
    "\n",
    "**a)** Create a new function `npbatch(U,X,Y)` as a replacement of the implementation `pybatch(U,X,Y,nearest=npnearest)` that we have built in the previous exercise. Inside this function, use `scipy.spatial.distance.cdist` for the actual distance computation. Again, verify your function for the same toy example as before (i.e. `data.toy(20,100,50)`).\n",
    "\n",
    "**b)** Create a plot comparing the computation time of the new implementation compared to the previous one. Here, we fix `N=100`, `d=100`, and we let `M` vary from `1` to `1000` with values `[1, 2, 5, 10, 20, 50, 100, 200, 500, 1000]`."
   ]
  },
  {
   "cell_type": "code",
   "execution_count": null,
   "metadata": {
    "deletable": false,
    "nbgrader": {
     "checksum": "9b4eed40dfeff6ab673679d7530df4b5",
     "grade": false,
     "grade_id": "cell-58ebbd1ea052789a",
     "locked": false,
     "schema_version": 1,
     "solution": true
    }
   },
   "outputs": [],
   "source": [
    "def npbatch(U, X, Y, nearest=npnearest, distance=npdistance):\n",
    "    # >>>>> YOUR CODE HERE\n",
    "    raise NotImplementedError(\"Replace this line by your code.\")\n",
    "    # <<<<< END YOUR CODE"
   ]
  },
  {
   "cell_type": "code",
   "execution_count": null,
   "metadata": {
    "deletable": false,
    "editable": false,
    "nbgrader": {
     "checksum": "d1c38088161cd9ff00066e8de8111f98",
     "grade": true,
     "grade_id": "cell-bf7e49de5ebddbf3",
     "locked": true,
     "points": 25,
     "schema_version": 1,
     "solution": false
    }
   },
   "outputs": [],
   "source": [
    "assert numpy.all(pybatch(U, X, Y) == npbatch(U, X, Y))"
   ]
  },
  {
   "cell_type": "markdown",
   "metadata": {
    "collapsed": true
   },
   "source": [
    "## 4. Application to real-world data (25 P)\n",
    "\n",
    "Having now implemented an efficient K-nearest neighbor classifier, we can test it on real problems with many data points and dimensions. We consider a small handwritten digits recognition dataset, that can be directly obtained from the library `scikit-learn`. This dataset consists of handwritten digits of size `8 x 8` flattened into arrays of size `64`, with class between `0` and `9`. We use a function `data.digits()` to load the data and arrange data points in some predefined order."
   ]
  },
  {
   "cell_type": "code",
   "execution_count": null,
   "metadata": {
    "deletable": false,
    "editable": false,
    "nbgrader": {
     "checksum": "a0c555d0a13bfe29de4afe4230334600",
     "grade": false,
     "grade_id": "cell-0af1076e9b4ee47b",
     "locked": true,
     "schema_version": 1,
     "solution": false
    }
   },
   "outputs": [],
   "source": [
    "X, Y = data.digits()"
   ]
  },
  {
   "cell_type": "markdown",
   "metadata": {},
   "source": [
    "**a)** Using the function `imshow` of `matplotlib.pyplot (plt)` to visualize the first 100 digits of the dataset."
   ]
  },
  {
   "cell_type": "code",
   "execution_count": null,
   "metadata": {
    "deletable": false,
    "nbgrader": {
     "checksum": "45fbfee610fcc20a1cc026ceab4e970b",
     "grade": true,
     "grade_id": "cell-62a66170b487f137",
     "locked": false,
     "points": 3,
     "schema_version": 1,
     "solution": true
    }
   },
   "outputs": [],
   "source": [
    "def plot_first_digits():\n",
    "    # >>>>> YOUR CODE HERE\n",
    "    raise NotImplementedError(\"Replace this line by your code.\")\n",
    "    # <<<<< END YOUR CODE\n",
    "plot_first_digits()"
   ]
  },
  {
   "cell_type": "code",
   "execution_count": null,
   "metadata": {
    "deletable": false,
    "editable": false,
    "nbgrader": {
     "checksum": "8721b56fe05033ce84df42f4fc730f51",
     "grade": true,
     "grade_id": "cell-e60559d8efeccccb",
     "locked": true,
     "points": 2,
     "schema_version": 1,
     "solution": false
    }
   },
   "outputs": [],
   "source": []
  },
  {
   "cell_type": "markdown",
   "metadata": {},
   "source": [
    "**b)**\n",
    "* Partition the data into a \"training\" set and \"test\" set. The training set contains the first 1000 digits of `X`, and the test set contains the remaining ones.\n",
    "\n",
    "* Assume that you don't know the labels for the test data and classify the test data using your efficient nearest neighbor implementation.\n",
    "\n",
    "* Print the predicted labels for the test set."
   ]
  },
  {
   "cell_type": "code",
   "execution_count": null,
   "metadata": {
    "deletable": false,
    "nbgrader": {
     "checksum": "c7a936ec613aed237541f7e7bde226df",
     "grade": false,
     "grade_id": "cell-b112a1903fec8961",
     "locked": false,
     "schema_version": 1,
     "solution": true
    }
   },
   "outputs": [],
   "source": [
    "def train_test_split(x, y):\n",
    "    # x are the data, y are the labels\n",
    "    # >>>>> YOUR CODE HERE\n",
    "    raise NotImplementedError(\"Replace this line by your code.\")\n",
    "    # <<<<< END YOUR CODE\n",
    "    return x_train, x_test, y_train, y_test\n",
    "\n",
    "def predict(x_train, x_test, y_train):\n",
    "    # >>>>> YOUR CODE HERE\n",
    "    raise NotImplementedError(\"Replace this line by your code.\")\n",
    "    # <<<<< END YOUR CODE\n",
    "    return y_test"
   ]
  },
  {
   "cell_type": "code",
   "execution_count": null,
   "metadata": {
    "deletable": false,
    "editable": false,
    "nbgrader": {
     "checksum": "42a919f09975d32c9fad66bce0ea887f",
     "grade": true,
     "grade_id": "cell-7bb424481c1f04b4",
     "locked": true,
     "points": 15,
     "schema_version": 1,
     "solution": false
    }
   },
   "outputs": [],
   "source": [
    "x_train, x_test, y_train, y_test = train_test_split(X, Y)\n",
    "print(predict(x_train, x_test, y_train))"
   ]
  },
  {
   "cell_type": "markdown",
   "metadata": {},
   "source": [
    "**c)** \n",
    "* Finally, in order to determine the accuracy of the classifier, we would like to compare the predictions with the ground truth (i.e. the true labels from the test data).\n",
    "\n",
    "* Compute the fraction of the time on the test set where the predictions of the nearest neighbor algorithm and labels disagree. "
   ]
  },
  {
   "cell_type": "code",
   "execution_count": null,
   "metadata": {
    "deletable": false,
    "nbgrader": {
     "checksum": "110be8ce20c03980437c6a34c03e2734",
     "grade": false,
     "grade_id": "cell-e1a0f7833241b127",
     "locked": false,
     "schema_version": 1,
     "solution": true
    }
   },
   "outputs": [],
   "source": [
    "def evaluate(x_train, x_test, y_train, y_test):\n",
    "    # >>>>> YOUR CODE HERE\n",
    "    raise NotImplementedError(\"Replace this line by your code.\")\n",
    "    # <<<<< END YOUR CODE\n",
    "    return ratio_disagree"
   ]
  },
  {
   "cell_type": "code",
   "execution_count": null,
   "metadata": {
    "deletable": false,
    "editable": false,
    "nbgrader": {
     "checksum": "d80063bef25cf2d2f7e14133db3807c5",
     "grade": true,
     "grade_id": "cell-2cf51ada3daa9bb6",
     "locked": true,
     "points": 5,
     "schema_version": 1,
     "solution": false
    }
   },
   "outputs": [],
   "source": [
    "x_train, x_test, y_train, y_test = train_test_split(X, Y)\n",
    "ratio_disagree = evaluate(x_train, x_test, y_train, y_test)\n",
    "assert 0 <= ratio_disagree <= 1"
   ]
  }
 ],
 "metadata": {
  "kernelspec": {
   "display_name": "Python 3",
   "language": "python",
   "name": "python3"
  },
  "language_info": {
   "codemirror_mode": {
    "name": "ipython",
    "version": 3
   },
   "file_extension": ".py",
   "mimetype": "text/x-python",
   "name": "python",
   "nbconvert_exporter": "python",
   "pygments_lexer": "ipython3",
   "version": "3.6.4"
  }
 },
 "nbformat": 4,
 "nbformat_minor": 1
}
